{
 "cells": [
  {
   "cell_type": "code",
   "execution_count": 13,
   "id": "c560a293",
   "metadata": {},
   "outputs": [],
   "source": [
    "import plotly.io as pio\n",
    "pio.renderers.default = 'browser'"
   ]
  },
  {
   "cell_type": "code",
   "execution_count": 15,
   "id": "21c91086",
   "metadata": {},
   "outputs": [
    {
     "name": "stdout",
     "output_type": "stream",
     "text": [
      "<class 'pandas.core.frame.DataFrame'>\n",
      "RangeIndex: 51525 entries, 0 to 51524\n",
      "Data columns (total 13 columns):\n",
      " #   Column        Non-Null Count  Dtype  \n",
      "---  ------        --------------  -----  \n",
      " 0   price         51525 non-null  int64  \n",
      " 1   model_year    47906 non-null  float64\n",
      " 2   model         51525 non-null  object \n",
      " 3   condition     51525 non-null  object \n",
      " 4   cylinders     46265 non-null  float64\n",
      " 5   fuel          51525 non-null  object \n",
      " 6   odometer      43633 non-null  float64\n",
      " 7   transmission  51525 non-null  object \n",
      " 8   type          51525 non-null  object \n",
      " 9   paint_color   42258 non-null  object \n",
      " 10  is_4wd        25572 non-null  float64\n",
      " 11  date_posted   51525 non-null  object \n",
      " 12  days_listed   51525 non-null  int64  \n",
      "dtypes: float64(4), int64(2), object(7)\n",
      "memory usage: 5.1+ MB\n",
      "\n",
      "   price  model_year           model  condition  cylinders fuel  odometer  \\\n",
      "0   9400      2011.0          bmw x5       good        6.0  gas  145000.0   \n",
      "1  25500         NaN      ford f-150       good        6.0  gas   88705.0   \n",
      "2   5500      2013.0  hyundai sonata   like new        4.0  gas  110000.0   \n",
      "3   1500      2003.0      ford f-150       fair        8.0  gas       NaN   \n",
      "4  14900      2017.0    chrysler 200  excellent        4.0  gas   80903.0   \n",
      "\n",
      "  transmission    type paint_color  is_4wd date_posted  days_listed  \n",
      "0    automatic     SUV         NaN     1.0  2018-06-23           19  \n",
      "1    automatic  pickup       white     1.0  2018-10-19           50  \n",
      "2    automatic   sedan         red     NaN  2019-02-07           79  \n",
      "3    automatic  pickup         NaN     NaN  2019-03-22            9  \n",
      "4    automatic   sedan       black     NaN  2019-04-02           28  \n"
     ]
    }
   ],
   "source": [
    "import pandas as pd\n",
    "import plotly.express as px\n",
    "\n",
    "df_car = pd.read_csv('vehicles_us.csv')\n",
    "\n",
    "df_car.info()\n",
    "print()\n",
    "\n",
    "print(df_car.head())"
   ]
  },
  {
   "cell_type": "code",
   "execution_count": 17,
   "id": "27ae58f0",
   "metadata": {},
   "outputs": [
    {
     "name": "stdout",
     "output_type": "stream",
     "text": [
      "<class 'pandas.core.frame.DataFrame'>\n",
      "RangeIndex: 51525 entries, 0 to 51524\n",
      "Data columns (total 13 columns):\n",
      " #   Column        Non-Null Count  Dtype         \n",
      "---  ------        --------------  -----         \n",
      " 0   price         51525 non-null  int64         \n",
      " 1   model_year    47906 non-null  Int64         \n",
      " 2   model         51525 non-null  object        \n",
      " 3   condition     51525 non-null  object        \n",
      " 4   cylinders     46265 non-null  Int64         \n",
      " 5   fuel          51525 non-null  object        \n",
      " 6   odometer      43633 non-null  float64       \n",
      " 7   transmission  51525 non-null  object        \n",
      " 8   type          51525 non-null  object        \n",
      " 9   paint_color   42258 non-null  object        \n",
      " 10  is_4wd        25572 non-null  float64       \n",
      " 11  date_posted   51525 non-null  datetime64[ns]\n",
      " 12  days_listed   51525 non-null  int64         \n",
      "dtypes: Int64(2), datetime64[ns](1), float64(2), int64(2), object(6)\n",
      "memory usage: 5.2+ MB\n"
     ]
    }
   ],
   "source": [
    "df_car['model_year'] = df_car['model_year'].astype('Int64')\n",
    "df_car['cylinders'] = df_car['cylinders'].astype('Int64')\n",
    "df_car['date_posted'] = pd.to_datetime(df_car['date_posted'])\n",
    "df_car.info()"
   ]
  },
  {
   "cell_type": "code",
   "execution_count": null,
   "id": "d8670726",
   "metadata": {},
   "outputs": [],
   "source": [
    "fig = px.histogram(df_car,\n",
    "                   x='price', \n",
    "                   title= 'Distribucion de precios'\n",
    "                   )\n",
    "fig.update_xaxes(range=[0, 60000])\n",
    "fig.show()"
   ]
  },
  {
   "cell_type": "code",
   "execution_count": 40,
   "id": "5c329084",
   "metadata": {},
   "outputs": [],
   "source": [
    "fig = px.bar(df_car,\n",
    "       x='model_year',\n",
    "       y='price',\n",
    "       title='Precio vs año del modelo')\n",
    "fig.update_xaxes(range=[1990, 2020])\n",
    "fig.show()"
   ]
  },
  {
   "cell_type": "code",
   "execution_count": 35,
   "id": "5dfddb9c",
   "metadata": {},
   "outputs": [],
   "source": [
    "fig = px.scatter(df_car,\n",
    "                 x='odometer',\n",
    "                 y='price',\n",
    "                 title='Relación kilometraje vs precio')\n",
    "fig.update_xaxes(range=[0, 350000])\n",
    "fig.update_yaxes(range=[0, 100000])\n",
    "fig.show()"
   ]
  },
  {
   "cell_type": "code",
   "execution_count": 41,
   "id": "ae3412c8",
   "metadata": {},
   "outputs": [],
   "source": [
    "fig= px.bar(df_car,\n",
    "            x='condition',\n",
    "            y='price',\n",
    "            title='Precio vs condición')\n",
    "fig.show()"
   ]
  },
  {
   "cell_type": "code",
   "execution_count": null,
   "id": "fbef28bc",
   "metadata": {},
   "outputs": [],
   "source": []
  }
 ],
 "metadata": {
  "kernelspec": {
   "display_name": ".venv",
   "language": "python",
   "name": "python3"
  },
  "language_info": {
   "codemirror_mode": {
    "name": "ipython",
    "version": 3
   },
   "file_extension": ".py",
   "mimetype": "text/x-python",
   "name": "python",
   "nbconvert_exporter": "python",
   "pygments_lexer": "ipython3",
   "version": "3.13.5"
  }
 },
 "nbformat": 4,
 "nbformat_minor": 5
}
